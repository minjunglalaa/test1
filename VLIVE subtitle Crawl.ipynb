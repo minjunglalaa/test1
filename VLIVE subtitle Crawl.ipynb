{
 "cells": [
  {
   "cell_type": "markdown",
   "metadata": {
    "id": "mbmAJGwcRc9J"
   },
   "source": [
    "# 브이라이브에서 자막 txt파일로 가져오는 코드\n",
    "\n",
    "- 이 ipynb파일과 같은 폴더에 chromedriver 다운받아서 넣어둘 것!\n",
    "> download here-> https://chromedriver.chromium.org/downloads"
   ]
  },
  {
   "cell_type": "code",
   "execution_count": 1,
   "metadata": {
    "colab": {
     "base_uri": "https://localhost:8080/",
     "height": 367
    },
    "executionInfo": {
     "elapsed": 44,
     "status": "error",
     "timestamp": 1629810473779,
     "user": {
      "displayName": "MJ la laa",
      "photoUrl": "https://lh3.googleusercontent.com/a-/AOh14GjGVhjXJolVmLkHaXGwO7NcVfa4G1cTW_sKrQpfbA=s64",
      "userId": "02342106599857111895"
     },
     "user_tz": -540
    },
    "id": "N96fFUIQRc9O",
    "outputId": "8b2edbe0-3612-4b40-fe2c-05a234af6af0"
   },
   "outputs": [],
   "source": [
    "from selenium import webdriver\n",
    "from selenium.webdriver.chrome.options import Options\n",
    "from selenium.webdriver.support.wait import WebDriverWait\n",
    "from selenium.common.exceptions import TimeoutException\n",
    "from selenium.webdriver.common.action_chains import ActionChains\n",
    "import time"
   ]
  },
  {
   "cell_type": "code",
   "execution_count": 3,
   "metadata": {
    "id": "5Eva2zOwRc9R"
   },
   "outputs": [],
   "source": [
    "# 제어되는 크롬창 열기\n",
    "driver = webdriver.Chrome(executable_path=\"./chromedriver.exe\")"
   ]
  },
  {
   "cell_type": "markdown",
   "metadata": {
    "id": "gvY-q6BARc9T"
   },
   "source": [
    "### 여기에서 창 뜨고 나면 브이라이브 들어가서, 로그인하고, 콘서트 재생페이지로 가기.\n",
    "#### 콘서트 재생페이지에서 '한글자막' ON 해주기\n",
    "\n",
    "오늘의 자막 가져올 링크: \n",
    "https://www.vlive.tv/post/1-27041262"
   ]
  },
  {
   "cell_type": "code",
   "execution_count": 3,
   "metadata": {
    "id": "1XLGXekJRc9V"
   },
   "outputs": [],
   "source": [
    "#initialize \n",
    "# 콘서트 이름(또는 아이돌 이름) 입력해주기\n",
    "concert_name = \"IU_\"\n",
    "subtitle = \"\"\n",
    "onScreen1 = \"\"\n",
    "onScreen2 = \"\"\n",
    "captionId = \"rmcPlayer_16272227938005253.subtitle\""
   ]
  },
  {
   "cell_type": "code",
   "execution_count": 4,
   "metadata": {
    "id": "tSFFMNMPRc9W"
   },
   "outputs": [],
   "source": [
    "def returnSub():\n",
    "    onScreen = driver.find_element_by_class_name(\"_subtitle_container\").text\n",
    "    return onScreen\n",
    "\n",
    "def screenShot():\n",
    "    a = ActionChains(driver)\n",
    "#     m = driver.find_element_by_class_name(\"u_time_current\")\n",
    "    m = driver.find_element_by_id(\"playerBoxArea\")\n",
    "    a.move_to_element(m).perform()\n",
    "    timestamp = driver.find_element_by_class_name(\"u_time_current\").text.replace(\":\", \"_\")\n",
    "    if len(timestamp) < 6:\n",
    "        timestamp = \"00_\" +timestamp\n",
    "    print(timestamp)\n",
    "    driver.save_screenshot(concert_name+ \"_\" + timestamp+ '.png')"
   ]
  },
  {
   "cell_type": "markdown",
   "metadata": {
    "id": "S23P5AbgRc9Y"
   },
   "source": [
    "##### 자막이 잘 가져와지는지 확인하기위해, 자막이 있는 부분으로 이동한 뒤 아래의 코드를 돌려 본다. "
   ]
  },
  {
   "cell_type": "code",
   "execution_count": 17,
   "metadata": {
    "id": "zmKzsN5bRc9b",
    "outputId": "9dfdeb6d-556e-4be9-f146-875108361670"
   },
   "outputs": [
    {
     "data": {
      "text/plain": [
       "'여기에 뭐가 있죠? 여기 있는 게 뭐지?'"
      ]
     },
     "execution_count": 17,
     "metadata": {},
     "output_type": "execute_result"
    }
   ],
   "source": [
    "returnSub()"
   ]
  },
  {
   "cell_type": "markdown",
   "metadata": {
    "id": "_2DvjcTuRc9g"
   },
   "source": [
    "##### 스샷도 잘 찍히는지 확인"
   ]
  },
  {
   "cell_type": "code",
   "execution_count": 17,
   "metadata": {
    "id": "n7ElGJtLRc9k",
    "outputId": "417de9b7-53b4-4601-c410-f8bee73f8752"
   },
   "outputs": [
    {
     "name": "stdout",
     "output_type": "stream",
     "text": [
      "00_01_14\n"
     ]
    }
   ],
   "source": [
    "# driver.save_screenshot('screenie.png')\n",
    "screenShot()"
   ]
  },
  {
   "cell_type": "markdown",
   "metadata": {
    "id": "4RKq09gbRc9m"
   },
   "source": [
    "### 위의 점검 후 아래의 코드를 실행, 곧바로 영상재생을 누르면 된다. \n",
    "\n",
    "##### 대충 30초마다 자막 txt는 업뎃됨. 첫 생성이랑 업데이트만 한번 확인해주면 좋습니다..!"
   ]
  },
  {
   "cell_type": "code",
   "execution_count": 18,
   "metadata": {
    "collapsed": true,
    "id": "bA-AJ59gRc9o",
    "outputId": "5a388eb8-25c9-4fc4-eb6b-e0ce0e90ba2d"
   },
   "outputs": [
    {
     "name": "stdout",
     "output_type": "stream",
     "text": [
      "\n",
      "[힘든 것도 잠시!]\n",
      "\n",
      "[무대만 올라가면 살아나는 무대 체질유]\n",
      "\n",
      "- 내가 원래 반대로 하는 거 제일 못하거든\n",
      "- 그렇지\n",
      "[방금 전 새로운 엔딩 포즈를 선보인 아이유]\n",
      "대박이다\n",
      "\n",
      "- 너무 새로웠다\n",
      "- 근데 진짜 대박인 건\n",
      "댄서들 아무도 안 웃어\n",
      "\n",
      "[반대로 가는 엔딩 요정...?]\n",
      "[원래. VER]\n",
      "\n",
      "[그리고... 절대 웃지 않는 댄서들...]\n",
      "일상생활에서도\n",
      "\n",
      "왼쪽, 오른쪽 살짝 헷갈리는 타입이라\n",
      "I get confused with the left and right sides.\n",
      "\n",
      "Although YOHAN made me practice for this,\n",
      "I thought I would barely make it.\n",
      "So what happened there?\n",
      "\n",
      "[Embarrassed]\n",
      "Why did I do that?\n",
      "[Where was I supposed to go?]\n",
      "As we planned... hold on.\n",
      "\n",
      "[Is this side correct?]\n",
      "- Should I go this way? - Right.\n",
      "\n",
      "\n",
      "[The exhausting appearance from the back\n",
      "of 13 years experienced idol]\n"
     ]
    },
    {
     "ename": "KeyboardInterrupt",
     "evalue": "",
     "output_type": "error",
     "traceback": [
      "\u001b[1;31m---------------------------------------------------------------------------\u001b[0m",
      "\u001b[1;31mKeyboardInterrupt\u001b[0m                         Traceback (most recent call last)",
      "\u001b[1;32m<ipython-input-18-2ae5649c944a>\u001b[0m in \u001b[0;36m<module>\u001b[1;34m\u001b[0m\n\u001b[0;32m      4\u001b[0m \u001b[1;32mwhile\u001b[0m \u001b[0mi\u001b[0m \u001b[1;33m>\u001b[0m \u001b[1;36m0\u001b[0m\u001b[1;33m:\u001b[0m\u001b[1;33m\u001b[0m\u001b[1;33m\u001b[0m\u001b[0m\n\u001b[0;32m      5\u001b[0m     \u001b[0monScreen1\u001b[0m \u001b[1;33m=\u001b[0m \u001b[0mreturnSub\u001b[0m\u001b[1;33m(\u001b[0m\u001b[1;33m)\u001b[0m\u001b[1;33m\u001b[0m\u001b[1;33m\u001b[0m\u001b[0m\n\u001b[1;32m----> 6\u001b[1;33m     \u001b[0mtime\u001b[0m\u001b[1;33m.\u001b[0m\u001b[0msleep\u001b[0m\u001b[1;33m(\u001b[0m\u001b[1;36m0.3\u001b[0m\u001b[1;33m)\u001b[0m\u001b[1;33m\u001b[0m\u001b[1;33m\u001b[0m\u001b[0m\n\u001b[0m\u001b[0;32m      7\u001b[0m     \u001b[0monScreen2\u001b[0m \u001b[1;33m=\u001b[0m \u001b[0mreturnSub\u001b[0m\u001b[1;33m(\u001b[0m\u001b[1;33m)\u001b[0m\u001b[1;33m\u001b[0m\u001b[1;33m\u001b[0m\u001b[0m\n\u001b[0;32m      8\u001b[0m     \u001b[1;32mif\u001b[0m \u001b[0monScreen1\u001b[0m \u001b[1;33m!=\u001b[0m \u001b[0monScreen2\u001b[0m\u001b[1;33m:\u001b[0m\u001b[1;33m\u001b[0m\u001b[1;33m\u001b[0m\u001b[0m\n",
      "\u001b[1;31mKeyboardInterrupt\u001b[0m: "
     ]
    }
   ],
   "source": [
    "i = 20000 #대충 100분 (0.3x20000 = 6000 seconds)\n",
    "subtitle = \"\"\n",
    "\n",
    "while i > 0:\n",
    "    onScreen1 = returnSub()\n",
    "    time.sleep(0.3)\n",
    "    onScreen2 = returnSub()\n",
    "    if onScreen1 != onScreen2:\n",
    "        subtitle += \"\\n\" + onScreen1\n",
    "        print(onScreen1)\n",
    "        \n",
    "        \n",
    "    if i%100 == 0:\n",
    "        f = open(concert_name + \".txt\", \"w\", encoding = 'utf-8-sig')\n",
    "        f.write(subtitle)\n",
    "        f.close()\n",
    "#         screenShot()\n",
    "    i -= 1"
   ]
  },
  {
   "cell_type": "markdown",
   "metadata": {
    "id": "1HVo5dMZRc9p"
   },
   "source": [
    "#### 콘서트가 끝난 후에도 코드가 돌아가고 있다면 위의 interrupt 정지버튼(ㅁ)을 눌러서 강제종료해도된다. \n",
    "#### 아래는 자막 전체 보고 싶을때, 한번 더 확실하게 자막 텍스트파일 하고 싶을 때. "
   ]
  },
  {
   "cell_type": "code",
   "execution_count": 20,
   "metadata": {
    "id": "Nu36BXaWRc9q",
    "outputId": "066e0cfc-e8e3-4e1e-b048-201ba089b790",
    "scrolled": true
   },
   "outputs": [
    {
     "data": {
      "text/plain": [
       "'\\n\\n[힘든 것도 잠시!]\\n\\n[무대만 올라가면 살아나는 무대 체질유]\\n\\n- 내가 원래 반대로 하는 거 제일 못하거든\\n- 그렇지\\n[방금 전 새로운 엔딩 포즈를 선보인 아이유]\\n대박이다\\n\\n- 너무 새로웠다\\n- 근데 진짜 대박인 건\\n댄서들 아무도 안 웃어\\n\\n[반대로 가는 엔딩 요정...?]\\n[원래. VER]\\n\\n[그리고... 절대 웃지 않는 댄서들...]\\n일상생활에서도\\n\\n왼쪽, 오른쪽 살짝 헷갈리는 타입이라\\nI get confused with the left and right sides.\\n\\nAlthough YOHAN made me practice for this,\\nI thought I would barely make it.\\nSo what happened there?\\n\\n[Embarrassed]\\nWhy did I do that?\\n[Where was I supposed to go?]\\nAs we planned... hold on.\\n\\n[Is this side correct?]\\n- Should I go this way? - Right.\\n\\n\\n[The exhausting appearance from the back\\nof 13 years experienced idol]'"
      ]
     },
     "execution_count": 20,
     "metadata": {},
     "output_type": "execute_result"
    }
   ],
   "source": [
    "subtitle"
   ]
  },
  {
   "cell_type": "code",
   "execution_count": 21,
   "metadata": {
    "id": "BrwUqPQvRc9r"
   },
   "outputs": [],
   "source": [
    "f = open(concert_name + \"_final.txt\", \"w\", encoding = 'utf-8-sig')\n",
    "f.write(subtitle)\n",
    "f.close()"
   ]
  },
  {
   "cell_type": "code",
   "execution_count": null,
   "metadata": {},
   "outputs": [],
   "source": []
  },
  {
   "cell_type": "code",
   "execution_count": null,
   "metadata": {},
   "outputs": [],
   "source": []
  },
  {
   "cell_type": "markdown",
   "metadata": {},
   "source": [
    "# Weverse\n"
   ]
  },
  {
   "cell_type": "code",
   "execution_count": 11,
   "metadata": {},
   "outputs": [],
   "source": [
    "#initialize \n",
    "# 콘서트 이름(또는 아이돌 이름) 입력해주기\n",
    "concert_name = \"5 방탄 방방콘\"\n",
    "subtitle = \"\"\n",
    "onScreen1 = \"\"\n",
    "onScreen2 = \"\"\n",
    "# captionId = \"rmcPlayer_16272227938005253.subtitle\""
   ]
  },
  {
   "cell_type": "code",
   "execution_count": 27,
   "metadata": {},
   "outputs": [],
   "source": [
    "# def returnSub():\n",
    "#     onScreen = driver.find_element_by_class_name(\"_subtitle_container\").text\n",
    "#     return onScreen\n",
    "\n",
    "def screenShot():\n",
    "    a = ActionChains(driver)\n",
    "#     m = driver.find_element_by_class_name(\"u_time_current\")\n",
    "    m = driver.find_element_by_id(\"media-player\")\n",
    "    a.move_to_element(m).perform()\n",
    "    timestamp = driver.find_element_by_class_name(\"current-time\").text.replace(\":\", \"_\")\n",
    "    if len(timestamp) < 6:\n",
    "        timestamp = \"00_\" +timestamp\n",
    "    print(timestamp)\n",
    "    driver.save_screenshot(\"C:/Users/ghd20/Documents/oCam/연구자료/5 방탄 방방콘/\" + concert_name+ \"_\" + timestamp+ '.png')"
   ]
  },
  {
   "cell_type": "code",
   "execution_count": 166,
   "metadata": {},
   "outputs": [
    {
     "name": "stdout",
     "output_type": "stream",
     "text": [
      "01_33_23\n"
     ]
    }
   ],
   "source": [
    "screenShot() "
   ]
  }
 ],
 "metadata": {
  "colab": {
   "name": "브이라이브 자막 크롤 코드.ipynb",
   "provenance": []
  },
  "kernelspec": {
   "display_name": "Python 3",
   "language": "python",
   "name": "python3"
  },
  "language_info": {
   "codemirror_mode": {
    "name": "ipython",
    "version": 3
   },
   "file_extension": ".py",
   "mimetype": "text/x-python",
   "name": "python",
   "nbconvert_exporter": "python",
   "pygments_lexer": "ipython3",
   "version": "3.6.8"
  }
 },
 "nbformat": 4,
 "nbformat_minor": 1
}
